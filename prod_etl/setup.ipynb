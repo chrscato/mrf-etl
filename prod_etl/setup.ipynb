{
 "cells": [
  {
   "cell_type": "code",
   "execution_count": 1,
   "id": "78e1d2f3",
   "metadata": {},
   "outputs": [],
   "source": [
    "import pandas as pd"
   ]
  },
  {
   "cell_type": "code",
   "execution_count": 2,
   "id": "fa6ffd61",
   "metadata": {},
   "outputs": [],
   "source": [
    "#file paths\n",
    "\n",
    "mrf_prov = pd.read_parquet(r\"C:\\Users\\ChristopherCato\\OneDrive - clarity-dx.com\\code\\bph\\mrf-etl\\data\\raw\\prov_uhc.parquet\")\n",
    "mrf_rates = pd.read_parquet(r\"C:\\Users\\ChristopherCato\\OneDrive - clarity-dx.com\\code\\bph\\mrf-etl\\data\\raw\\rates_uhc.parquet\")"
   ]
  },
  {
   "cell_type": "code",
   "execution_count": 3,
   "id": "fc6b0197",
   "metadata": {},
   "outputs": [
    {
     "name": "stdout",
     "output_type": "stream",
     "text": [
      "mrf_prov columns: Index(['provider_group_id', 'npi', 'tin_type', 'tin_value',\n",
      "       'reporting_entity_name', 'reporting_entity_type', 'last_updated_on',\n",
      "       'version'],\n",
      "      dtype='object')\n",
      "mrf_prov head:    provider_group_id         npi tin_type  tin_value  \\\n",
      "0                  0  1134133002      ein  205077249   \n",
      "1                  1  1104897024      ein  200235522   \n",
      "2                  2  1104159086      ein  472221436   \n",
      "3                  2  1649931452      ein  472221436   \n",
      "4                  2  1144678392      ein  472221436   \n",
      "\n",
      "              reporting_entity_name reporting_entity_type last_updated_on  \\\n",
      "0  UnitedHealthcare of Georgia Inc.               Insurer      2025-08-01   \n",
      "1  UnitedHealthcare of Georgia Inc.               Insurer      2025-08-01   \n",
      "2  UnitedHealthcare of Georgia Inc.               Insurer      2025-08-01   \n",
      "3  UnitedHealthcare of Georgia Inc.               Insurer      2025-08-01   \n",
      "4  UnitedHealthcare of Georgia Inc.               Insurer      2025-08-01   \n",
      "\n",
      "  version  \n",
      "0   1.0.0  \n",
      "1   1.0.0  \n",
      "2   1.0.0  \n",
      "3   1.0.0  \n",
      "4   1.0.0  \n"
     ]
    }
   ],
   "source": [
    "#mrf_prov\n",
    "print(f\"mrf_prov columns: {mrf_prov.columns}\")\n",
    "print(f\"mrf_prov head: {mrf_prov.head()}\")\n"
   ]
  },
  {
   "cell_type": "code",
   "execution_count": 4,
   "id": "2ccba855",
   "metadata": {},
   "outputs": [
    {
     "name": "stdout",
     "output_type": "stream",
     "text": [
      "mrf_rates columns: Index(['provider_reference_id', 'negotiated_rate', 'negotiated_type',\n",
      "       'billing_class', 'expiration_date', 'service_codes', 'billing_code',\n",
      "       'billing_code_type', 'description', 'name', 'negotiation_arrangement',\n",
      "       'reporting_entity_name', 'reporting_entity_type', 'last_updated_on',\n",
      "       'version'],\n",
      "      dtype='object')\n",
      "mrf_rates head:    provider_reference_id  negotiated_rate negotiated_type  billing_class  \\\n",
      "0                    484           305.41      negotiated   professional   \n",
      "1                    484           446.80      negotiated   professional   \n",
      "2                    907           216.11      negotiated   professional   \n",
      "3                    907           157.95      negotiated   professional   \n",
      "4                    433           721.00      negotiated  institutional   \n",
      "\n",
      "  expiration_date                                      service_codes  \\\n",
      "0      9999-12-31  ['02', '05', '06', '07', '08', '19', '21', '22...   \n",
      "1      9999-12-31                                                 []   \n",
      "2      9999-12-31                                                 []   \n",
      "3      9999-12-31  ['02', '05', '06', '07', '08', '19', '21', '22...   \n",
      "4      9999-12-31                                    ['n', 'u', 'l']   \n",
      "\n",
      "  billing_code billing_code_type  \\\n",
      "0        10121               CPT   \n",
      "1        10121               CPT   \n",
      "2        10121               CPT   \n",
      "3        10121               CPT   \n",
      "4        10121               CPT   \n",
      "\n",
      "                                         description  \\\n",
      "0  Incision and removal of foreign body, subcutan...   \n",
      "1  Incision and removal of foreign body, subcutan...   \n",
      "2  Incision and removal of foreign body, subcutan...   \n",
      "3  Incision and removal of foreign body, subcutan...   \n",
      "4  Incision and removal of foreign body, subcutan...   \n",
      "\n",
      "                                             name negotiation_arrangement  \\\n",
      "0  INCISION & REMOVAL FOREIGN BODY SUBQ TISS COMP                     ffs   \n",
      "1  INCISION & REMOVAL FOREIGN BODY SUBQ TISS COMP                     ffs   \n",
      "2  INCISION & REMOVAL FOREIGN BODY SUBQ TISS COMP                     ffs   \n",
      "3  INCISION & REMOVAL FOREIGN BODY SUBQ TISS COMP                     ffs   \n",
      "4  INCISION & REMOVAL FOREIGN BODY SUBQ TISS COMP                     ffs   \n",
      "\n",
      "              reporting_entity_name reporting_entity_type last_updated_on  \\\n",
      "0  UnitedHealthcare of Georgia Inc.               Insurer      2025-08-01   \n",
      "1  UnitedHealthcare of Georgia Inc.               Insurer      2025-08-01   \n",
      "2  UnitedHealthcare of Georgia Inc.               Insurer      2025-08-01   \n",
      "3  UnitedHealthcare of Georgia Inc.               Insurer      2025-08-01   \n",
      "4  UnitedHealthcare of Georgia Inc.               Insurer      2025-08-01   \n",
      "\n",
      "  version  \n",
      "0   1.0.0  \n",
      "1   1.0.0  \n",
      "2   1.0.0  \n",
      "3   1.0.0  \n",
      "4   1.0.0  \n"
     ]
    }
   ],
   "source": [
    "#mrf_rate\n",
    "print(f\"mrf_rates columns: {mrf_rates.columns}\")\n",
    "print(f\"mrf_rates head: {mrf_rates.head()}\")\n"
   ]
  }
 ],
 "metadata": {
  "kernelspec": {
   "display_name": "Python 3",
   "language": "python",
   "name": "python3"
  },
  "language_info": {
   "codemirror_mode": {
    "name": "ipython",
    "version": 3
   },
   "file_extension": ".py",
   "mimetype": "text/x-python",
   "name": "python",
   "nbconvert_exporter": "python",
   "pygments_lexer": "ipython3",
   "version": "3.13.2"
  }
 },
 "nbformat": 4,
 "nbformat_minor": 5
}
