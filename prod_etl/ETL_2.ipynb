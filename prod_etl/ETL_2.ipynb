{
  "cells": [
    {
      "cell_type": "markdown",
      "metadata": {},
      "source": [
        "# ETL_2: NPPES Provider Data Management\n",
        "\n",
        "This notebook demonstrates how to use the updated `utils_nppes.py` to manage provider data from the NPPES registry.\n",
        "\n",
        "## Features:\n",
        "- Fetch individual NPIs from NPPES\n",
        "- Batch update NPIs from fact table\n",
        "- Use custom dim_npi filenames\n",
        "- Query existing NPI data\n"
      ]
    },
    {
      "cell_type": "markdown",
      "metadata": {},
      "source": [
        "View Current dim_npi"
      ]
    },
    {
      "cell_type": "code",
      "execution_count": 1,
      "metadata": {},
      "outputs": [
        {
          "name": "stdout",
          "output_type": "stream",
          "text": [
            "Index(['primary_taxonomy_license', 'primary_taxonomy_state',\n",
            "       'primary_taxonomy_desc', 'status', 'nppes_fetch_date',\n",
            "       'sole_proprietor', 'first_name', 'npi', 'organization_name',\n",
            "       'last_name', 'credential', 'enumeration_type', 'replacement_npi',\n",
            "       'primary_taxonomy_code', 'last_updated', 'enumeration_date',\n",
            "       'nppes_fetched'],\n",
            "      dtype='object')\n",
            "  primary_taxonomy_license primary_taxonomy_state primary_taxonomy_desc  \\\n",
            "0                     None                   None                  None   \n",
            "1                     None                   None                  None   \n",
            "2                     None                   None                  None   \n",
            "3                     None                   None                  None   \n",
            "4                     None                   None                  None   \n",
            "\n",
            "  status nppes_fetch_date sole_proprietor first_name         npi  \\\n",
            "0   None             None            None       None  1578663944   \n",
            "1   None             None            None       None  1225302029   \n",
            "2   None             None            None       None  1255900601   \n",
            "3   None             None            None       None  1568574390   \n",
            "4   None             None            None       None  1699111070   \n",
            "\n",
            "  organization_name last_name credential enumeration_type replacement_npi  \\\n",
            "0              None      None       None             None            None   \n",
            "1              None      None       None             None            None   \n",
            "2              None      None       None             None            None   \n",
            "3              None      None       None             None            None   \n",
            "4              None      None       None             None            None   \n",
            "\n",
            "  primary_taxonomy_code last_updated enumeration_date  nppes_fetched  \n",
            "0                  None         None             None          False  \n",
            "1                  None         None             None          False  \n",
            "2                  None         None             None          False  \n",
            "3                  None         None             None          False  \n",
            "4                  None         None             None          False  \n"
          ]
        }
      ],
      "source": [
        "import pandas as pd\n",
        "\n",
        "dim_npi = pd.read_parquet(\"core/data/silver/dim_npi/dim_npi.parquet\")\n",
        "print(dim_npi.columns)\n",
        "print(dim_npi.head())\n"
      ]
    },
    {
      "cell_type": "markdown",
      "metadata": {},
      "source": [
        "Check NPI Status"
      ]
    },
    {
      "cell_type": "code",
      "execution_count": 5,
      "metadata": {},
      "outputs": [
        {
          "name": "stdout",
          "output_type": "stream",
          "text": [
            "📊 NPPES Fetch Status\n",
            "========================================\n",
            "📁 File: core\\data\\silver\\dim_npi\\dim_npi.parquet\n",
            "📈 Total NPIs: 15,885\n",
            "✅ Fetched: 102\n",
            "⏳ Remaining: 15,783\n",
            "📊 Progress: 0.6%\n",
            "\n",
            "🔄 To continue fetching:\n",
            "   python fetch_npi_data.py --silver-dir core/data/silver --sleep 0.1\n",
            "\n",
            "🔄 To fetch in batches:\n",
            "   python fetch_npi_data.py --silver-dir core/data/silver --sleep 0.1 --limit 1000\n",
            "\n",
            "📋 Sample of fetched data:\n",
            "   Organizations:\n",
            "     - VERUS HEALTHCARE, LLC (NPI: 1245221092)\n",
            "   Individuals:\n",
            "     - SEAN SAULS (NPI: 1407963952)\n",
            "     - TAMBRA FOSTER (NPI: 1255900601)\n"
          ]
        }
      ],
      "source": [
        "!python check_npi_status.py"
      ]
    },
    {
      "cell_type": "markdown",
      "metadata": {},
      "source": [
        "Test Small Batch"
      ]
    },
    {
      "cell_type": "code",
      "execution_count": 7,
      "metadata": {
        "vscode": {
          "languageId": "powershell"
        }
      },
      "outputs": [
        {
          "ename": "SyntaxError",
          "evalue": "invalid syntax (1671865403.py, line 1)",
          "output_type": "error",
          "traceback": [
            "\u001b[1;36m  Cell \u001b[1;32mIn[7], line 1\u001b[1;36m\u001b[0m\n\u001b[1;33m    python fetch_npi_data_fast.py --silver-dir core/data/silver --threads 5 --limit 100\u001b[0m\n\u001b[1;37m           ^\u001b[0m\n\u001b[1;31mSyntaxError\u001b[0m\u001b[1;31m:\u001b[0m invalid syntax\n"
          ]
        }
      ],
      "source": [
        "python fetch_npi_data_fast.py --silver-dir core/data/silver --threads 5 --limit 100"
      ]
    },
    {
      "cell_type": "code",
      "execution_count": 6,
      "metadata": {},
      "outputs": [
        {
          "name": "stdout",
          "output_type": "stream",
          "text": [
            "^C\n"
          ]
        }
      ],
      "source": [
        "!python fetch_npi_data_fast.py --silver-dir core/data/silver --threads 5 --limit 100"
      ]
    },
    {
      "cell_type": "markdown",
      "metadata": {},
      "source": [
        "Check Status Again"
      ]
    },
    {
      "cell_type": "code",
      "execution_count": null,
      "metadata": {},
      "outputs": [],
      "source": [
        "!python check_npi_status.py"
      ]
    },
    {
      "cell_type": "markdown",
      "metadata": {},
      "source": [
        "Run Full NPI Fetch"
      ]
    },
    {
      "cell_type": "code",
      "execution_count": null,
      "metadata": {},
      "outputs": [],
      "source": [
        "!python fetch_npi_data_fast.py --silver-dir core/data/silver --threads 5 --limit 10000"
      ]
    }
  ],
  "metadata": {
    "kernelspec": {
      "display_name": "Python 3",
      "language": "python",
      "name": "python3"
    },
    "language_info": {
      "codemirror_mode": {
        "name": "ipython",
        "version": 3
      },
      "file_extension": ".py",
      "mimetype": "text/x-python",
      "name": "python",
      "nbconvert_exporter": "python",
      "pygments_lexer": "ipython3",
      "version": "3.13.2"
    }
  },
  "nbformat": 4,
  "nbformat_minor": 2
}
