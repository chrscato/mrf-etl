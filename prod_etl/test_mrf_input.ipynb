{
 "cells": [
  {
   "cell_type": "code",
   "execution_count": 4,
   "id": "af5d8f34",
   "metadata": {},
   "outputs": [
    {
     "name": "stderr",
     "output_type": "stream",
     "text": [
      "C:\\Users\\ChristopherCato\\AppData\\Local\\Temp\\ipykernel_40600\\1180190581.py:16: DeprecationWarning: `LazyFrame.with_row_count` is deprecated. Use `with_row_index` instead. Note that the default column name has changed from 'row_nr' to 'index'.\n",
      "  prov_lazy = prov_lazy.with_row_count(\"prov_idx\")\n",
      "C:\\Users\\ChristopherCato\\AppData\\Local\\Temp\\ipykernel_40600\\1180190581.py:17: DeprecationWarning: `LazyFrame.with_row_count` is deprecated. Use `with_row_index` instead. Note that the default column name has changed from 'row_nr' to 'index'.\n",
      "  rate_lazy = rate_lazy.with_row_count(\"rate_idx\")\n"
     ]
    },
    {
     "name": "stdout",
     "output_type": "stream",
     "text": [
      "shape: (3_713_605, 2)\n",
      "┌──────────┬───────────────────────┐\n",
      "│ rate_idx ┆ provider_reference_id │\n",
      "│ ---      ┆ ---                   │\n",
      "│ u32      ┆ i64                   │\n",
      "╞══════════╪═══════════════════════╡\n",
      "│ 0        ┆ 251                   │\n",
      "│ 1        ┆ 251                   │\n",
      "│ 2        ┆ 484                   │\n",
      "│ 3        ┆ 484                   │\n",
      "│ 4        ┆ 711                   │\n",
      "│ …        ┆ …                     │\n",
      "│ 3713600  ┆ 803                   │\n",
      "│ 3713601  ┆ 483                   │\n",
      "│ 3713602  ┆ 483                   │\n",
      "│ 3713603  ┆ 696                   │\n",
      "│ 3713604  ┆ 696                   │\n",
      "└──────────┴───────────────────────┘\n",
      "\n",
      "Unique provider_reference_id in rates: 637\n",
      "Unique provider_reference_id with a hit in providers: 637 (100.00%)\n"
     ]
    }
   ],
   "source": [
    "import polars as pl\n",
    "\n",
    "# File paths\n",
    "prov_path = r\"C:\\Users\\ChristopherCato\\OneDrive - clarity-dx.com\\code\\bph\\mrf-etl\\prod_etl\\data\\input\\providers_ga_uhc_20250907_183348.parquet\"\n",
    "rate_path = r\"C:\\Users\\ChristopherCato\\OneDrive - clarity-dx.com\\code\\bph\\mrf-etl\\prod_etl\\data\\input\\rates_ga_uhc_20250907_183414.parquet\"\n",
    "\n",
    "# Only read the columns needed for the join (replace with actual column names)\n",
    "prov_col = \"provider_group_id\"\n",
    "rate_col = \"provider_reference_id\"\n",
    "\n",
    "# Read only the join columns, lazily for memory efficiency\n",
    "prov_lazy = pl.scan_parquet(prov_path).select([prov_col])\n",
    "rate_lazy = pl.scan_parquet(rate_path).select([rate_col])\n",
    "\n",
    "# Add index columns to track original row positions\n",
    "prov_lazy = prov_lazy.with_row_count(\"prov_idx\")\n",
    "rate_lazy = rate_lazy.with_row_count(\"rate_idx\")\n",
    "\n",
    "# Perform a semi-join to get all rows in rate that have a hit in prov\n",
    "hits_in_rate = rate_lazy.join(\n",
    "    prov_lazy,\n",
    "    left_on=rate_col,\n",
    "    right_on=prov_col,\n",
    "    how=\"semi\"\n",
    ")\n",
    "\n",
    "# Collect the result (this will only materialize the hits, not the full table)\n",
    "hits_result = hits_in_rate.collect()\n",
    "\n",
    "# Show all the hits in rate\n",
    "print(hits_result)\n",
    "\n",
    "# Optionally, show how many hits there are and what percent of rate this is\n",
    "rate_unique = pl.scan_parquet(rate_path).select(rate_col).unique().collect()\n",
    "hits_unique = hits_result.select(rate_col).unique().height\n",
    "rate_total = rate_unique.height\n",
    "hits_pct = (hits_unique / rate_total * 100) if rate_total else 0\n",
    "\n",
    "print(f\"\\nUnique {rate_col} in rates: {rate_total}\")\n",
    "print(f\"Unique {rate_col} with a hit in providers: {hits_unique} ({hits_pct:.2f}%)\")"
   ]
  },
  {
   "cell_type": "code",
   "execution_count": 5,
   "id": "fc50c8fd",
   "metadata": {},
   "outputs": [
    {
     "name": "stdout",
     "output_type": "stream",
     "text": [
      "=== RATES SAMPLE ===\n"
     ]
    },
    {
     "ename": "ColumnNotFoundError",
     "evalue": "provider_group_id\n\nResolved plan until failure:\n\n\t---> FAILED HERE RESOLVING 'sink' <---\nDF [\"provider_reference_id\", \"negotiated_rate\", \"negotiated_type\", \"billing_class\", ...]; PROJECT */15 COLUMNS",
     "output_type": "error",
     "traceback": [
      "\u001b[1;31m---------------------------------------------------------------------------\u001b[0m",
      "\u001b[1;31mColumnNotFoundError\u001b[0m                       Traceback (most recent call last)",
      "Cell \u001b[1;32mIn[5], line 13\u001b[0m\n\u001b[0;32m     10\u001b[0m prov_sample \u001b[38;5;241m=\u001b[39m pl\u001b[38;5;241m.\u001b[39mread_parquet(\u001b[38;5;124m\"\u001b[39m\u001b[38;5;124mdata/input/providers_ga_uhc_20250907_183348.parquet\u001b[39m\u001b[38;5;124m\"\u001b[39m)\u001b[38;5;241m.\u001b[39mhead(\u001b[38;5;241m5\u001b[39m)\n\u001b[0;32m     12\u001b[0m \u001b[38;5;28mprint\u001b[39m(\u001b[38;5;124m\"\u001b[39m\u001b[38;5;124m=== RATES SAMPLE ===\u001b[39m\u001b[38;5;124m\"\u001b[39m)\n\u001b[1;32m---> 13\u001b[0m \u001b[38;5;28mprint\u001b[39m(\u001b[43mrates_sample\u001b[49m\u001b[38;5;241;43m.\u001b[39;49m\u001b[43mselect\u001b[49m\u001b[43m(\u001b[49m\u001b[43m[\u001b[49m\u001b[38;5;124;43m\"\u001b[39;49m\u001b[38;5;124;43mreporting_entity_name\u001b[39;49m\u001b[38;5;124;43m\"\u001b[39;49m\u001b[43m,\u001b[49m\u001b[43m \u001b[49m\u001b[38;5;124;43m\"\u001b[39;49m\u001b[38;5;124;43mversion\u001b[39;49m\u001b[38;5;124;43m\"\u001b[39;49m\u001b[43m,\u001b[49m\u001b[43m \u001b[49m\u001b[38;5;124;43m\"\u001b[39;49m\u001b[38;5;124;43mprovider_reference_id\u001b[39;49m\u001b[38;5;124;43m\"\u001b[39;49m\u001b[43m,\u001b[49m\u001b[43m \u001b[49m\u001b[38;5;124;43m\"\u001b[39;49m\u001b[38;5;124;43mprovider_group_id\u001b[39;49m\u001b[38;5;124;43m\"\u001b[39;49m\u001b[43m]\u001b[49m\u001b[43m)\u001b[49m)\n\u001b[0;32m     15\u001b[0m \u001b[38;5;28mprint\u001b[39m(\u001b[38;5;124m\"\u001b[39m\u001b[38;5;130;01m\\n\u001b[39;00m\u001b[38;5;124m=== PROVIDER SAMPLE ===\u001b[39m\u001b[38;5;124m\"\u001b[39m)\n\u001b[0;32m     16\u001b[0m \u001b[38;5;28mprint\u001b[39m(prov_sample\u001b[38;5;241m.\u001b[39mselect([\u001b[38;5;124m\"\u001b[39m\u001b[38;5;124mreporting_entity_name\u001b[39m\u001b[38;5;124m\"\u001b[39m, \u001b[38;5;124m\"\u001b[39m\u001b[38;5;124mversion\u001b[39m\u001b[38;5;124m\"\u001b[39m, \u001b[38;5;124m\"\u001b[39m\u001b[38;5;124mprovider_group_id\u001b[39m\u001b[38;5;124m\"\u001b[39m, \u001b[38;5;124m\"\u001b[39m\u001b[38;5;124mprovider_reference_id\u001b[39m\u001b[38;5;124m\"\u001b[39m]))\n",
      "File \u001b[1;32mc:\\Users\\ChristopherCato\\AppData\\Local\\Programs\\Python\\Python313\\Lib\\site-packages\\polars\\dataframe\\frame.py:9657\u001b[0m, in \u001b[0;36mDataFrame.select\u001b[1;34m(self, *exprs, **named_exprs)\u001b[0m\n\u001b[0;32m   9557\u001b[0m \u001b[38;5;28;01mdef\u001b[39;00m\u001b[38;5;250m \u001b[39m\u001b[38;5;21mselect\u001b[39m(\n\u001b[0;32m   9558\u001b[0m     \u001b[38;5;28mself\u001b[39m, \u001b[38;5;241m*\u001b[39mexprs: IntoExpr \u001b[38;5;241m|\u001b[39m Iterable[IntoExpr], \u001b[38;5;241m*\u001b[39m\u001b[38;5;241m*\u001b[39mnamed_exprs: IntoExpr\n\u001b[0;32m   9559\u001b[0m ) \u001b[38;5;241m-\u001b[39m\u001b[38;5;241m>\u001b[39m DataFrame:\n\u001b[0;32m   9560\u001b[0m \u001b[38;5;250m    \u001b[39m\u001b[38;5;124;03m\"\"\"\u001b[39;00m\n\u001b[0;32m   9561\u001b[0m \u001b[38;5;124;03m    Select columns from this DataFrame.\u001b[39;00m\n\u001b[0;32m   9562\u001b[0m \n\u001b[1;32m   (...)\u001b[0m\n\u001b[0;32m   9655\u001b[0m \u001b[38;5;124;03m    └──────────────┘\u001b[39;00m\n\u001b[0;32m   9656\u001b[0m \u001b[38;5;124;03m    \"\"\"\u001b[39;00m\n\u001b[1;32m-> 9657\u001b[0m     \u001b[38;5;28;01mreturn\u001b[39;00m \u001b[38;5;28;43mself\u001b[39;49m\u001b[38;5;241;43m.\u001b[39;49m\u001b[43mlazy\u001b[49m\u001b[43m(\u001b[49m\u001b[43m)\u001b[49m\u001b[38;5;241;43m.\u001b[39;49m\u001b[43mselect\u001b[49m\u001b[43m(\u001b[49m\u001b[38;5;241;43m*\u001b[39;49m\u001b[43mexprs\u001b[49m\u001b[43m,\u001b[49m\u001b[43m \u001b[49m\u001b[38;5;241;43m*\u001b[39;49m\u001b[38;5;241;43m*\u001b[39;49m\u001b[43mnamed_exprs\u001b[49m\u001b[43m)\u001b[49m\u001b[38;5;241;43m.\u001b[39;49m\u001b[43mcollect\u001b[49m\u001b[43m(\u001b[49m\u001b[43m_eager\u001b[49m\u001b[38;5;241;43m=\u001b[39;49m\u001b[38;5;28;43;01mTrue\u001b[39;49;00m\u001b[43m)\u001b[49m\n",
      "File \u001b[1;32mc:\\Users\\ChristopherCato\\AppData\\Local\\Programs\\Python\\Python313\\Lib\\site-packages\\polars\\_utils\\deprecation.py:93\u001b[0m, in \u001b[0;36mdeprecate_streaming_parameter.<locals>.decorate.<locals>.wrapper\u001b[1;34m(*args, **kwargs)\u001b[0m\n\u001b[0;32m     89\u001b[0m         kwargs[\u001b[38;5;124m\"\u001b[39m\u001b[38;5;124mengine\u001b[39m\u001b[38;5;124m\"\u001b[39m] \u001b[38;5;241m=\u001b[39m \u001b[38;5;124m\"\u001b[39m\u001b[38;5;124min-memory\u001b[39m\u001b[38;5;124m\"\u001b[39m\n\u001b[0;32m     91\u001b[0m     \u001b[38;5;28;01mdel\u001b[39;00m kwargs[\u001b[38;5;124m\"\u001b[39m\u001b[38;5;124mstreaming\u001b[39m\u001b[38;5;124m\"\u001b[39m]\n\u001b[1;32m---> 93\u001b[0m \u001b[38;5;28;01mreturn\u001b[39;00m \u001b[43mfunction\u001b[49m\u001b[43m(\u001b[49m\u001b[38;5;241;43m*\u001b[39;49m\u001b[43margs\u001b[49m\u001b[43m,\u001b[49m\u001b[43m \u001b[49m\u001b[38;5;241;43m*\u001b[39;49m\u001b[38;5;241;43m*\u001b[39;49m\u001b[43mkwargs\u001b[49m\u001b[43m)\u001b[49m\n",
      "File \u001b[1;32mc:\\Users\\ChristopherCato\\AppData\\Local\\Programs\\Python\\Python313\\Lib\\site-packages\\polars\\lazyframe\\frame.py:2224\u001b[0m, in \u001b[0;36mLazyFrame.collect\u001b[1;34m(self, type_coercion, _type_check, predicate_pushdown, projection_pushdown, simplify_expression, slice_pushdown, comm_subplan_elim, comm_subexpr_elim, cluster_with_columns, collapse_joins, no_optimization, engine, background, _check_order, _eager, **_kwargs)\u001b[0m\n\u001b[0;32m   2222\u001b[0m \u001b[38;5;66;03m# Only for testing purposes\u001b[39;00m\n\u001b[0;32m   2223\u001b[0m callback \u001b[38;5;241m=\u001b[39m _kwargs\u001b[38;5;241m.\u001b[39mget(\u001b[38;5;124m\"\u001b[39m\u001b[38;5;124mpost_opt_callback\u001b[39m\u001b[38;5;124m\"\u001b[39m, callback)\n\u001b[1;32m-> 2224\u001b[0m \u001b[38;5;28;01mreturn\u001b[39;00m wrap_df(\u001b[43mldf\u001b[49m\u001b[38;5;241;43m.\u001b[39;49m\u001b[43mcollect\u001b[49m\u001b[43m(\u001b[49m\u001b[43mengine\u001b[49m\u001b[43m,\u001b[49m\u001b[43m \u001b[49m\u001b[43mcallback\u001b[49m\u001b[43m)\u001b[49m)\n",
      "\u001b[1;31mColumnNotFoundError\u001b[0m: provider_group_id\n\nResolved plan until failure:\n\n\t---> FAILED HERE RESOLVING 'sink' <---\nDF [\"provider_reference_id\", \"negotiated_rate\", \"negotiated_type\", \"billing_class\", ...]; PROJECT */15 COLUMNS"
     ]
    }
   ],
   "source": [
    "# Diagnostic: Check the actual pg_uid generation\n",
    "import polars as pl\n",
    "import hashlib\n",
    "\n",
    "def md5(s: str) -> str:\n",
    "    return hashlib.md5(s.encode(\"utf-8\")).hexdigest()\n",
    "\n",
    "# Read a sample from both files\n",
    "rates_sample = pl.read_parquet(\"data/input/rates_ga_uhc_20250907_183414.parquet\").head(5)\n",
    "prov_sample = pl.read_parquet(\"data/input/providers_ga_uhc_20250907_183348.parquet\").head(5)\n",
    "\n",
    "print(\"=== RATES SAMPLE ===\")\n",
    "print(rates_sample.select([\"reporting_entity_name\", \"version\", \"provider_reference_id\", \"provider_group_id\"]))\n",
    "\n",
    "print(\"\\n=== PROVIDER SAMPLE ===\")\n",
    "print(prov_sample.select([\"reporting_entity_name\", \"version\", \"provider_group_id\", \"provider_reference_id\"]))\n",
    "\n",
    "# Check if the same provider_reference_id appears in both files\n",
    "common_refs = rates_sample.join(\n",
    "    prov_sample, \n",
    "    on=\"provider_reference_id\", \n",
    "    how=\"inner\"\n",
    ").select(\"provider_reference_id\").unique()\n",
    "\n",
    "print(f\"\\nCommon provider_reference_ids: {common_refs.height}\")\n",
    "\n",
    "if common_refs.height > 0:\n",
    "    # Show the pg_uid generation for a common provider\n",
    "    common_ref = common_refs.item(0, 0)\n",
    "    \n",
    "    rates_row = rates_sample.filter(pl.col(\"provider_reference_id\") == common_ref).head(1)\n",
    "    prov_row = prov_sample.filter(pl.col(\"provider_reference_id\") == common_ref).head(1)\n",
    "    \n",
    "    if rates_row.height > 0 and prov_row.height > 0:\n",
    "        # Generate pg_uid using current logic\n",
    "        rates_key = f\"{rates_row.item(0, 'reporting_entity_name')}|{rates_row.item(0, 'version')}|{rates_row.item(0, 'provider_group_id')}|{rates_row.item(0, 'provider_reference_id')}\"\n",
    "        prov_key = f\"{prov_row.item(0, 'reporting_entity_name')}|{prov_row.item(0, 'version')}|{prov_row.item(0, 'provider_group_id')}|{prov_row.item(0, 'provider_reference_id')}\"\n",
    "        \n",
    "        print(f\"\\nRates key: {rates_key}\")\n",
    "        print(f\"Provider key: {prov_key}\")\n",
    "        print(f\"Keys match: {rates_key == prov_key}\")\n",
    "        print(f\"Rates pg_uid: {md5(rates_key)}\")\n",
    "        print(f\"Provider pg_uid: {md5(prov_key)}\")"
   ]
  },
  {
   "cell_type": "code",
   "execution_count": 6,
   "id": "6ba2a1b4",
   "metadata": {},
   "outputs": [
    {
     "name": "stdout",
     "output_type": "stream",
     "text": [
      "Index(['pg_uid', 'npi'], dtype='object')\n",
      "                             pg_uid         npi\n",
      "0  33c5ebf41b7fe9461b8ccf3202cb6604  1780875781\n",
      "1  11ce3cbdcf491bc5ea76386e84a55b4d  1386400323\n",
      "2  9d0a0e0ada1fa8f3ed7df5a0eea6957d  1083664288\n",
      "3  08c561c102c030d0a494b84b94e8c0a7  1154433902\n",
      "4  45e4780a665bccba6d35bb962e3c7b00  1184604191\n"
     ]
    }
   ],
   "source": [
    "import pandas as pd\n",
    "xref_pg_member_npi = pd.read_parquet(\"core/data/xrefs/xref_pg_member_npi.parquet\")\n",
    "print(xref_pg_member_npi.columns)\n",
    "print(xref_pg_member_npi.head())"
   ]
  }
 ],
 "metadata": {
  "kernelspec": {
   "display_name": "Python 3",
   "language": "python",
   "name": "python3"
  },
  "language_info": {
   "codemirror_mode": {
    "name": "ipython",
    "version": 3
   },
   "file_extension": ".py",
   "mimetype": "text/x-python",
   "name": "python",
   "nbconvert_exporter": "python",
   "pygments_lexer": "ipython3",
   "version": "3.13.2"
  }
 },
 "nbformat": 4,
 "nbformat_minor": 5
}
