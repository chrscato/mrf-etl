{
 "cells": [
  {
   "cell_type": "code",
   "execution_count": 2,
   "id": "84f25830",
   "metadata": {},
   "outputs": [],
   "source": [
    "import pandas as pd"
   ]
  },
  {
   "cell_type": "code",
   "execution_count": 3,
   "id": "3e29e458",
   "metadata": {},
   "outputs": [],
   "source": [
    "BERTOS = pd.read_excel(r\"C:\\Users\\ChristopherCato\\Downloads\\BETOS20_HCPCS_v2020_06_10 (1).xlsx\", sheet_name=\"BETOS20_HCPCS\")"
   ]
  },
  {
   "cell_type": "code",
   "execution_count": 4,
   "id": "c0bc4aa3",
   "metadata": {},
   "outputs": [
    {
     "name": "stdout",
     "output_type": "stream",
     "text": [
      "Index(['HCPCS', 'BETOS_20', 'Level1', 'Level2', 'Level3', 'BETOS_20_label'], dtype='object')\n",
      "   HCPCS BETOS_20                     Level1                       Level2  \\\n",
      "0  99201    EV10N  Evaluation and Management  Office/ outpatient services   \n",
      "1  99202    EV10N  Evaluation and Management  Office/ outpatient services   \n",
      "2  99203    EV10N  Evaluation and Management  Office/ outpatient services   \n",
      "3  99204    EV10N  Evaluation and Management  Office/ outpatient services   \n",
      "4  99205    EV10N  Evaluation and Management  Office/ outpatient services   \n",
      "\n",
      "              Level3                                     BETOS_20_label  \n",
      "0  New office visits  Evaluation and Management-  Office/ outpatient...  \n",
      "1  New office visits  Evaluation and Management-  Office/ outpatient...  \n",
      "2  New office visits  Evaluation and Management-  Office/ outpatient...  \n",
      "3  New office visits  Evaluation and Management-  Office/ outpatient...  \n",
      "4  New office visits  Evaluation and Management-  Office/ outpatient...  \n"
     ]
    }
   ],
   "source": [
    "print(BERTOS.columns)\n",
    "print(BERTOS.head())"
   ]
  },
  {
   "cell_type": "code",
   "execution_count": 5,
   "id": "41e4b65a",
   "metadata": {},
   "outputs": [],
   "source": [
    "# To rename columns in BERTOS, use the .rename() method.\n",
    "# Example: Rename 'OldName1' to 'NewName1', 'OldName2' to 'NewName2'\n",
    "BERTOS = BERTOS.rename(columns={\n",
    "    'HCPCS': 'proc_cd',\n",
    "    'Level1': 'proc_set',\n",
    "    'Level2': 'proc_class',\n",
    "    'Level3': 'proc_group'\n",
    "})\n"
   ]
  },
  {
   "cell_type": "code",
   "execution_count": 7,
   "id": "3ac53360",
   "metadata": {},
   "outputs": [
    {
     "data": {
      "text/plain": [
       "Index(['proc_cd', 'BETOS_20', 'proc_set', 'proc_class', 'proc_group',\n",
       "       'BETOS_20_label'],\n",
       "      dtype='object')"
      ]
     },
     "execution_count": 7,
     "metadata": {},
     "output_type": "execute_result"
    }
   ],
   "source": [
    "BERTOS.columns"
   ]
  },
  {
   "cell_type": "code",
   "execution_count": 8,
   "id": "05b7a2ec",
   "metadata": {},
   "outputs": [],
   "source": [
    "# To drop columns from the BERTOS DataFrame, use the .drop() method.\n",
    "# Example: To drop columns 'BETOS_20_label' and 'BETOS_20':\n",
    "BERTOS = BERTOS.drop(columns=['BETOS_20_label', 'BETOS_20'])\n"
   ]
  },
  {
   "cell_type": "code",
   "execution_count": 11,
   "id": "af99323a",
   "metadata": {},
   "outputs": [],
   "source": [
    "BERTOS.to_parquet(\"core/data/dims/dim_code_cat.parquet\")"
   ]
  }
 ],
 "metadata": {
  "kernelspec": {
   "display_name": "Python 3",
   "language": "python",
   "name": "python3"
  },
  "language_info": {
   "codemirror_mode": {
    "name": "ipython",
    "version": 3
   },
   "file_extension": ".py",
   "mimetype": "text/x-python",
   "name": "python",
   "nbconvert_exporter": "python",
   "pygments_lexer": "ipython3",
   "version": "3.13.2"
  }
 },
 "nbformat": 4,
 "nbformat_minor": 5
}
