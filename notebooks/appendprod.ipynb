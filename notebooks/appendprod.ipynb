{
 "cells": [
  {
   "cell_type": "code",
   "execution_count": 55,
   "id": "fc60cbe8",
   "metadata": {},
   "outputs": [],
   "source": [
    "import pandas as pd\n",
    "\n",
    "output = pd.read_parquet(r\"C:\\Users\\ChristopherCato\\OneDrive - clarity-dx.com\\code\\bph\\workcomp-rates\\core\\data\\commercial_rates_GA.parquet\")\n",
    "\n"
   ]
  },
  {
   "cell_type": "code",
   "execution_count": 69,
   "id": "3efd3f71",
   "metadata": {},
   "outputs": [
    {
     "name": "stdout",
     "output_type": "stream",
     "text": [
      "Index(['provider_group_id', 'npi', 'tin_type', 'tin_value',\n",
      "       'reporting_entity_name', 'reporting_entity_type', 'last_updated_on',\n",
      "       'version'],\n",
      "      dtype='object')\n",
      "17855\n"
     ]
    }
   ],
   "source": [
    "uhc_provider_list = pd.read_parquet(r\"C:\\Users\\ChristopherCato\\Downloads\\providers_uhc_georgia_20250801_20250828_200746.parquet\")\n",
    "print(uhc_provider_list.columns)\n",
    "print(len(uhc_provider_list))"
   ]
  },
  {
   "cell_type": "code",
   "execution_count": 56,
   "id": "4de431a8",
   "metadata": {},
   "outputs": [
    {
     "data": {
      "text/plain": [
       "12150"
      ]
     },
     "execution_count": 56,
     "metadata": {},
     "output_type": "execute_result"
    }
   ],
   "source": [
    "len(output)"
   ]
  },
  {
   "cell_type": "code",
   "execution_count": 37,
   "id": "8e5dfc5a",
   "metadata": {},
   "outputs": [
    {
     "name": "stdout",
     "output_type": "stream",
     "text": [
      "{'lat': 42.926457555011, 'lon': -78.829223514588, 'cbsa': {'cbsa_geoid': '15380', 'cbsa_name': 'Buffalo-Cheektowaga, NY Metro Area'}}\n"
     ]
    }
   ],
   "source": [
    "import requests\n",
    "\n",
    "def address_to_latlon_cbsa(addr: str):\n",
    "    base = \"https://geocoding.geo.census.gov/geocoder/geographies/onelineaddress\"\n",
    "    params = {\n",
    "        \"address\": addr,\n",
    "        \"benchmark\": \"Public_AR_Current\",\n",
    "        \"vintage\": \"Current_Current\",             # required for geographies\n",
    "        # CBSA layers (either names or IDs 93=Metro, 91=Micro)\n",
    "        \"layers\": \"Metropolitan Statistical Areas,Micropolitan Statistical Areas\",\n",
    "        \"format\": \"json\",\n",
    "    }\n",
    "    j = requests.get(base, params=params, timeout=30).json()\n",
    "    matches = j.get(\"result\", {}).get(\"addressMatches\", [])\n",
    "    if not matches:\n",
    "        return {\"error\": \"no_match\"}\n",
    "\n",
    "    m = matches[0]\n",
    "    lon, lat = m[\"coordinates\"][\"x\"], m[\"coordinates\"][\"y\"]\n",
    "\n",
    "    # Try CBSA directly from this response\n",
    "    geos = j[\"result\"].get(\"geographies\", {})\n",
    "    msa = geos.get(\"Metropolitan Statistical Areas\", []) or geos.get(\"Micropolitan Statistical Areas\", [])\n",
    "\n",
    "    # If CBSA not present, fall back: look up by coordinates\n",
    "    if not msa:\n",
    "        coord_url = \"https://geocoding.geo.census.gov/geocoder/geographies/coordinates\"\n",
    "        coord_params = {\n",
    "            \"x\": lon, \"y\": lat,\n",
    "            \"benchmark\": \"Public_AR_Current\",\n",
    "            \"vintage\": \"Current_Current\",\n",
    "            \"layers\": \"93,91\",   # Metro, Micro by ID\n",
    "            \"format\": \"json\",\n",
    "        }\n",
    "        j2 = requests.get(coord_url, params=coord_params, timeout=30).json()\n",
    "        geos2 = j2.get(\"result\", {}).get(\"geographies\", {})\n",
    "        msa = geos2.get(\"Metropolitan Statistical Areas\", []) or geos2.get(\"Micropolitan Statistical Areas\", [])\n",
    "\n",
    "    cbsa = None\n",
    "    if msa:\n",
    "        cbsa = {\"cbsa_geoid\": msa[0][\"GEOID\"], \"cbsa_name\": msa[0][\"NAME\"]}\n",
    "\n",
    "    return {\"lat\": lat, \"lon\": lon, \"cbsa\": cbsa}\n",
    "\n",
    "# Example\n",
    "#462 GRIDER ST        BUFFALO    NY   142153098\n",
    "print(address_to_latlon_cbsa(\"462 GRIDER ST, BUFFALO, NY 142153098\"))\n",
    "\n",
    "# print(address_to_latlon_cbsa(\"4600 Silver Hill Rd, Washington, DC 20233\"))\n"
   ]
  },
  {
   "cell_type": "code",
   "execution_count": 46,
   "id": "5fb50e15",
   "metadata": {},
   "outputs": [
    {
     "data": {
      "text/plain": [
       "Index(['rate', 'negotiated_type', 'billing_class', 'service_codes',\n",
       "       'billing_code', 'billing_code_type', 'code_desc', 'name',\n",
       "       'negotiation_arrangement', 'payer', 'payer_type', 'rate_updated_on',\n",
       "       'prov_npi', 'tin_type', 'tin_value', 'GA_PROF_MAR', 'GA_OP_MAR',\n",
       "       'GA_ASC_MAR', 'org_name', 'status', 'primary_taxonomy_code',\n",
       "       'primary_taxonomy_desc', 'address_purpose', 'address_type', 'address_1',\n",
       "       'address_2', 'city', 'state', 'postal_code', 'country_code',\n",
       "       'telephone_number', 'fax_number', 'lat', 'lon', 'cbsa_geoid',\n",
       "       'cbsa_name', 'geocoding_error', 'medicare_prof', 'state_up',\n",
       "       'billing_code_norm', 'state_wage_index_avg', 'opps_weight', 'opps_si',\n",
       "       'opps_short_desc', 'asc_pi', 'asc_nat_rate', 'asc_short_desc',\n",
       "       'medicare_opps_mar_national', 'medicare_asc_mar_national',\n",
       "       'opps_adj_factor_stateavg', 'asc_adj_factor_stateavg',\n",
       "       'medicare_opps_mar_stateavg', 'medicare_asc_mar_stateavg',\n",
       "       'procedure_set', 'procedure_class', 'procedure_group'],\n",
       "      dtype='object')"
      ]
     },
     "execution_count": 46,
     "metadata": {},
     "output_type": "execute_result"
    }
   ],
   "source": [
    "output.columns"
   ]
  },
  {
   "cell_type": "code",
   "execution_count": 39,
   "id": "1c9799e0",
   "metadata": {},
   "outputs": [
    {
     "name": "stdout",
     "output_type": "stream",
     "text": [
      "unique procedure_set: ['Radiology']\n",
      "unique payer: ['UnitedHealthcare of Georgia Inc.']\n",
      "unique org_name: ['BEAVER VALLEY AMBULATORY SURGERY CENTER, LLC' 'MIAMI ASC LP'\n",
      " 'KENTUCKIANA PAIN SPECIALIST AMBULATORY SURGERY CENTER'\n",
      " 'KURT G VERNON MD PA' 'UINTAH BASIN MEDICAL CENTER'\n",
      " 'ADVANCED SURGERY CENTER OF ORLANDO LLC' 'THE MEMORIAL HOSPITAL'\n",
      " 'CENTURY CITY ENDOSCOPY LLC' 'CENTURY CITY ENDOSCOPY, LLC'\n",
      " 'WILMINGTON SURGERY CENTER, LP' 'HEALTHQARE SERVICES ASC LLC'\n",
      " 'PIEDMONT SURGERY CENTER' 'nan' 'VISION QUEST LASER CENTER, LTD'\n",
      " 'SURGEYECARE, INC.' 'PRECISION AMBULATORY SURGERY CENTER, LLC'\n",
      " 'HARLINGEN SURGICAL CENTER, LLC'\n",
      " 'SOUTHERN CRESCENT REHABILITATION AND RETIREMENT COMMUNITY, INC'\n",
      " 'LISA RENFRO SURGERY CENTER LLC' 'DESERT PEAKS SURGERY CENTER LLC'\n",
      " 'BLUE MOUNTAIN HOSPITAL DISTRICT' 'GEORGIA INTERVENTIONAL PAIN - I, LLC'\n",
      " 'CENTER FOR MINIMALLY INVASIVE SURGERY PLLC'\n",
      " 'RETINA CONSULTANTS SURGERY CENTER'\n",
      " 'CHRISTUS SANTA ROSA HEALTH CARE CORPORATION'\n",
      " 'MOHS AND SKIN SURGERY CENTER, LLC' 'KERN VALLEY HEALTHCARE DISTRICT'\n",
      " 'CRYSTAL RIVER ENDOSCOPY ASC LP' 'CITRUS ENDOSCOPY AND SURGERY'\n",
      " 'IDAHO SURGICENTER INC' 'EASTERN SHORE ENDOSCOPY, LLC'\n",
      " 'WALTHALL COUNTY GENERAL HOSPITAL' 'WALTHALL GENERAL HOSPITAL'\n",
      " 'ERIE COUNTY MEDICAL CENTER CORPORATION' 'ROME SURGICAL CENTER, P.C.'\n",
      " 'EYE SURGICAL SERVICES LLC' 'MANKATO CLINIC ENDOSCOPY CENTER LLC'\n",
      " 'SURGICARE OF CENTRAL FLORIDA LTD' 'CCRM NORTHERN VIRGINIA, LLC'\n",
      " 'PENNSYLVANIA EYE & EAR SURGERY' 'SURGERY CENTER OF FORT WAYNE'\n",
      " 'CAPITOL STREET SURGERY CENTER LLC' 'TWIN RIVERS ENDOSCOPY CENTER, INC'\n",
      " 'NORTHAMPTON ENDOSCOPY CENTER LLC'\n",
      " 'MINIMALLY INVASIVE SURGERY CENTER, P.A.' 'MATTHEWS SURGERY CENTER, LLC'\n",
      " 'SURGICAL SPECIALTY CENTER OF NORTHEASTERN PENNSYLVANIA, LLC'\n",
      " 'ANNAPOLIS ENT SURGICAL CENTER, LLC' 'EYE SURGERY AND LASER CLINIC, INC.'\n",
      " 'IDAHO ENDOSCOPY CENTER LLC']\n",
      "unique cbsa_geoid: [None]\n"
     ]
    }
   ],
   "source": [
    "print(f\"unique procedure_set: {output['procedure_set'].unique()}\")\n",
    "\n",
    "print(f\"unique payer: {output['payer'].unique()}\")\n",
    "\n",
    "\n",
    "print(f\"unique org_name: {output['org_name'].unique()}\")\n",
    "\n",
    "print(f\"unique cbsa_geoid: {output['cbsa_geoid'].unique()}\")"
   ]
  },
  {
   "cell_type": "code",
   "execution_count": 40,
   "id": "d5cb5bd2",
   "metadata": {},
   "outputs": [
    {
     "name": "stdout",
     "output_type": "stream",
     "text": [
      "                     address_1        city state postal_code\n",
      "4963       500 LAKE CONCORD RD     CONCORD    NC   280252926\n",
      "11133  9439 NORTH BEACH STREET  FORT WORTH    TX       76244\n",
      "5500             462 GRIDER ST     BUFFALO    NY   142153021\n",
      "8317           20 COMMUNITY DR      EASTON    PA   180452658\n",
      "1995         2002 MEDICAL PKWY   ANNAPOLIS    MD   214013046\n"
     ]
    }
   ],
   "source": [
    "print(output[['address_1', 'city', 'state', 'postal_code']].sample(5))"
   ]
  },
  {
   "cell_type": "code",
   "execution_count": 58,
   "id": "c8db851d",
   "metadata": {},
   "outputs": [
    {
     "name": "stdout",
     "output_type": "stream",
     "text": [
      "unique state: ['PA' 'FL' 'KY' 'NC' 'UT' 'CO' 'CA' 'VA' 'GA' 'nan' 'TX' 'MD' 'NM' 'OR'\n",
      " 'WA' 'NJ' 'ID' 'MS' 'NY' 'MO' 'MN' 'IN']\n",
      "unique postal_code: ['150612489' '331342442' '402412002' '27518' '275262620' '840662336'\n",
      " '840783252' '328194707' '81625' '816252019' '900672001' '284016443'\n",
      " '222015792' '312101395' 'nan' '752314107' '76244' '785508209' '302534733'\n",
      " '214013046' '880118191' '978452009' '97869' '301616019' '983352095'\n",
      " '984054499' '077391208' '781304194' '782514498' '786667533' '210936017'\n",
      " '932409529' '93240' '344297622' '83201' '216013888' '396672022' '39667'\n",
      " '142153021' '142153098' '301651537' '631226425' '560015066' '338052442'\n",
      " '221822710' '196101986' '468041537' '462021221' '180452658' '082211036'\n",
      " '281055012' '187044968' '214013159' '280252926' '837048731']\n",
      "len(output_ga) after filtering states: 540\n",
      "unique org_name in output_ga: ['PIEDMONT SURGERY CENTER'\n",
      " 'SOUTHERN CRESCENT REHABILITATION AND RETIREMENT COMMUNITY, INC'\n",
      " 'GEORGIA INTERVENTIONAL PAIN - I, LLC' 'ROME SURGICAL CENTER, P.C.']\n"
     ]
    }
   ],
   "source": [
    "print(f\"unique state: {output['state'].unique()}\")\n",
    "print(f\"unique postal_code: {output['postal_code'].unique()}\")\n",
    "output_ga = output[output['state'].isin(['GA'])]\n",
    "print(f\"len(output_ga) after filtering states: {len(output_ga)}\")\n",
    "print(f\"unique org_name in output_ga: {output_ga['org_name'].unique()}\")\n"
   ]
  },
  {
   "cell_type": "code",
   "execution_count": 59,
   "id": "ad2d60c4",
   "metadata": {},
   "outputs": [],
   "source": [
    "optim = pd.read_parquet(r\"C:\\Users\\ChristopherCato\\OneDrive - clarity-dx.com\\code\\bph\\uhc_tic\\optim_health\\combined_df.parquet\")\n"
   ]
  },
  {
   "cell_type": "code",
   "execution_count": 60,
   "id": "6bedbb4d",
   "metadata": {},
   "outputs": [
    {
     "data": {
      "text/plain": [
       "Index(['Unnamed: 0', 'provider_group_id', 'npi', 'tin_type', 'tin_value',\n",
       "       'reporting_entity_name', 'reporting_entity_type', 'last_updated_on_x',\n",
       "       'version_x', 'provider_reference_id', 'uhc_rate', 'negotiated_type',\n",
       "       'billing_class', 'expiration_date', 'service_codes', 'billing_code',\n",
       "       'billing_code_type', 'description', 'name', 'negotiation_arrangement',\n",
       "       'last_updated_on_y', 'version_y', 'provider_name', 'credentials',\n",
       "       'gender', 'enumeration_date', 'last_updated', 'addresses',\n",
       "       'primary_specialty', 'secondary_specialties', 'provider_type',\n",
       "       'metadata', 'city', 'country', 'fax', 'phone', 'purpose', 'state',\n",
       "       'street', 'type', 'full_zip', 'service_zip', 'ZIP', 'CBSA',\n",
       "       'USPS_ZIP_PREF_CITY', 'USPS_ZIP_PREF_STATE', 'RES_RATIO', 'BUS_RATIO',\n",
       "       'OTH_RATIO', 'TOT_RATIO', 'CBSA Code', 'Metropolitan Division Code',\n",
       "       'CSA Code', 'CBSA Title', 'Metropolitan/Micropolitan Statistical Area',\n",
       "       'Metropolitan Division Title', 'CSA Title', 'County/County Equivalent',\n",
       "       'State Name', 'FIPS State Code', 'FIPS County Code',\n",
       "       'Central/Outlying County', 'billing_code_norm', 'hit_reason',\n",
       "       'ortho_bucket', 'code_norm', 'ga_wc_rate', 'pct_of_ga_wc', 'source',\n",
       "       'payer', 'schedule', 'methodology', 'state_code', 'geo_type',\n",
       "       'urban_rural', 'code_set', 'code', 'modifier', 'component',\n",
       "       'site_of_service', 'apc_code', 'ms_drg_code', 'si', 'pi', 'fud',\n",
       "       'price', 'price_note', 'row_rate', 'medicare_allowed',\n",
       "       'pct_of_medicare', 'HCPCS_Cd', 'RBCS_ID', 'RBCS_Cat', 'RBCS_Cat_Desc',\n",
       "       'RBCS_Cat_Subcat', 'RBCS_SubCat_Desc', 'RBCS_FamNumb',\n",
       "       'RBCS_Family_Desc', 'RBCS_Major_Ind',\n",
       "       'Final_CY_Prior_to_Reassignment '],\n",
       "      dtype='object')"
      ]
     },
     "execution_count": 60,
     "metadata": {},
     "output_type": "execute_result"
    }
   ],
   "source": [
    "optim.columns"
   ]
  },
  {
   "cell_type": "code",
   "execution_count": 68,
   "id": "af9a3d92",
   "metadata": {},
   "outputs": [
    {
     "name": "stdout",
     "output_type": "stream",
     "text": [
      "['GA']\n",
      "[\"{'first': '', 'last': '', 'middle': '', 'suffix': ''}\"]\n",
      "[1.70089975e+09]\n",
      "['Physical Medicine & Rehabilitation']\n"
     ]
    }
   ],
   "source": [
    "print(optim['state'].unique())\n",
    "print(optim['provider_name'].unique())\n",
    "print(str(optim['npi'].unique()))\n",
    "print(optim['primary_specialty'].unique())\n"
   ]
  },
  {
   "cell_type": "code",
   "execution_count": 54,
   "id": "5165dc66",
   "metadata": {},
   "outputs": [
    {
     "name": "stdout",
     "output_type": "stream",
     "text": [
      "unique npi: ['1962531988' '1851530554' '1386213460' '1902020522']\n"
     ]
    }
   ],
   "source": [
    "print(f\"unique npi: {output['prov_npi'].unique()}\")"
   ]
  },
  {
   "cell_type": "code",
   "execution_count": 52,
   "id": "d96fc41f",
   "metadata": {},
   "outputs": [
    {
     "name": "stdout",
     "output_type": "stream",
     "text": [
      "unique org_name: ['PIEDMONT SURGERY CENTER'\n",
      " 'SOUTHERN CRESCENT REHABILITATION AND RETIREMENT COMMUNITY, INC'\n",
      " 'GEORGIA INTERVENTIONAL PAIN - I, LLC' 'ROME SURGICAL CENTER, P.C.']\n"
     ]
    }
   ],
   "source": [
    "print(f\"unique org_name: {output['org_name'].unique()}\")"
   ]
  },
  {
   "cell_type": "code",
   "execution_count": 6,
   "id": "d62fd42b",
   "metadata": {},
   "outputs": [
    {
     "name": "stdout",
     "output_type": "stream",
     "text": [
      "unique primary_taxonomy_desc: ['Clinic/Center, Ambulatory Surgical'\n",
      " 'Internal Medicine, Gastroenterology' 'Clinic/Center, Endoscopy'\n",
      " 'Clinic/Center, End-Stage Renal Disease (ESRD) Treatment'\n",
      " 'General Acute Care Hospital, Critical Access'\n",
      " 'Clinic/Center, Multi-Specialty' 'nan'\n",
      " 'Clinic/Center, Ophthalmologic Surgery' 'Long Term Care Hospital'\n",
      " 'Nursing Facility/Intermediate Care Facility'\n",
      " 'Clinic/Center, Rural Health' 'Surgery' 'General Acute Care Hospital'\n",
      " 'Skilled Nursing Facility' 'Clinic/Center' 'Anesthesiology'\n",
      " 'Clinic/Center, Ambulatory Fertility Facility']\n"
     ]
    }
   ],
   "source": [
    "print(f\"unique primary_taxonomy_desc: {output['primary_taxonomy_desc'].unique()}\")"
   ]
  },
  {
   "cell_type": "code",
   "execution_count": 8,
   "id": "77c6c9f4",
   "metadata": {},
   "outputs": [
    {
     "name": "stdout",
     "output_type": "stream",
     "text": [
      "len(output) before dropping: 12312\n",
      "len(output) after dropping: 12150\n"
     ]
    }
   ],
   "source": [
    "# drop unwanted primary_taxonomy_desc\n",
    "\n",
    "desc_to_drop = [\n",
    "    'Gastroenterology',\n",
    "    'Endoscopy',\n",
    "    'Ambulatory Fertility Center',\n",
    "    'Ophthalmologic Surgery',\n",
    "    'End-Stage Renal Disease (ESRD) Treatment',\n",
    "    'Anesthesiology'\n",
    "]\n",
    "print(f\"len(output) before dropping: {len(output)}\")\n",
    "output = output[~output['primary_taxonomy_desc'].isin(desc_to_drop)]\n",
    "print(f\"len(output) after dropping: {len(output)}\")"
   ]
  },
  {
   "cell_type": "code",
   "execution_count": null,
   "id": "6d338ed0",
   "metadata": {},
   "outputs": [
    {
     "data": {
      "text/html": [
       "<div>\n",
       "<style scoped>\n",
       "    .dataframe tbody tr th:only-of-type {\n",
       "        vertical-align: middle;\n",
       "    }\n",
       "\n",
       "    .dataframe tbody tr th {\n",
       "        vertical-align: top;\n",
       "    }\n",
       "\n",
       "    .dataframe thead th {\n",
       "        text-align: right;\n",
       "    }\n",
       "</style>\n",
       "<table border=\"1\" class=\"dataframe\">\n",
       "  <thead>\n",
       "    <tr style=\"text-align: right;\">\n",
       "      <th></th>\n",
       "      <th>rate</th>\n",
       "      <th>negotiated_type</th>\n",
       "      <th>billing_class</th>\n",
       "      <th>service_codes</th>\n",
       "      <th>billing_code</th>\n",
       "      <th>billing_code_type</th>\n",
       "      <th>code_desc</th>\n",
       "      <th>name</th>\n",
       "      <th>negotiation_arrangement</th>\n",
       "      <th>payer</th>\n",
       "      <th>...</th>\n",
       "      <th>asc_short_desc</th>\n",
       "      <th>medicare_opps_mar_national</th>\n",
       "      <th>medicare_asc_mar_national</th>\n",
       "      <th>opps_adj_factor_stateavg</th>\n",
       "      <th>asc_adj_factor_stateavg</th>\n",
       "      <th>medicare_opps_mar_stateavg</th>\n",
       "      <th>medicare_asc_mar_stateavg</th>\n",
       "      <th>procedure_set</th>\n",
       "      <th>procedure_class</th>\n",
       "      <th>procedure_group</th>\n",
       "    </tr>\n",
       "  </thead>\n",
       "  <tbody>\n",
       "    <tr>\n",
       "      <th>0</th>\n",
       "      <td>18.15</td>\n",
       "      <td>negotiated</td>\n",
       "      <td>professional</td>\n",
       "      <td>[]</td>\n",
       "      <td>70030</td>\n",
       "      <td>CPT</td>\n",
       "      <td>Radiologic examination, eye, for detection of ...</td>\n",
       "      <td>RADIOLOGIC EXAMINATION EYE DETECT FOREIGN BODY</td>\n",
       "      <td>ffs</td>\n",
       "      <td>UnitedHealthcare of Georgia Inc.</td>\n",
       "      <td>...</td>\n",
       "      <td>None</td>\n",
       "      <td>88.045471</td>\n",
       "      <td>NaN</td>\n",
       "      <td>0.926806</td>\n",
       "      <td>0.939005</td>\n",
       "      <td>81.601074</td>\n",
       "      <td>NaN</td>\n",
       "      <td>Radiology</td>\n",
       "      <td>Head and Neck Imaging</td>\n",
       "      <td>Skull and Brain</td>\n",
       "    </tr>\n",
       "    <tr>\n",
       "      <th>1</th>\n",
       "      <td>18.15</td>\n",
       "      <td>negotiated</td>\n",
       "      <td>professional</td>\n",
       "      <td>[]</td>\n",
       "      <td>70030</td>\n",
       "      <td>CPT</td>\n",
       "      <td>Radiologic examination, eye, for detection of ...</td>\n",
       "      <td>RADIOLOGIC EXAMINATION EYE DETECT FOREIGN BODY</td>\n",
       "      <td>ffs</td>\n",
       "      <td>UnitedHealthcare of Georgia Inc.</td>\n",
       "      <td>...</td>\n",
       "      <td>None</td>\n",
       "      <td>88.045471</td>\n",
       "      <td>NaN</td>\n",
       "      <td>0.926806</td>\n",
       "      <td>0.939005</td>\n",
       "      <td>81.601074</td>\n",
       "      <td>NaN</td>\n",
       "      <td>Radiology</td>\n",
       "      <td>Head and Neck Imaging</td>\n",
       "      <td>Skull and Brain</td>\n",
       "    </tr>\n",
       "    <tr>\n",
       "      <th>2</th>\n",
       "      <td>18.15</td>\n",
       "      <td>negotiated</td>\n",
       "      <td>professional</td>\n",
       "      <td>[]</td>\n",
       "      <td>70030</td>\n",
       "      <td>CPT</td>\n",
       "      <td>Radiologic examination, eye, for detection of ...</td>\n",
       "      <td>RADIOLOGIC EXAMINATION EYE DETECT FOREIGN BODY</td>\n",
       "      <td>ffs</td>\n",
       "      <td>UnitedHealthcare of Georgia Inc.</td>\n",
       "      <td>...</td>\n",
       "      <td>None</td>\n",
       "      <td>88.045471</td>\n",
       "      <td>NaN</td>\n",
       "      <td>0.926806</td>\n",
       "      <td>0.939005</td>\n",
       "      <td>81.601074</td>\n",
       "      <td>NaN</td>\n",
       "      <td>Radiology</td>\n",
       "      <td>Head and Neck Imaging</td>\n",
       "      <td>Skull and Brain</td>\n",
       "    </tr>\n",
       "    <tr>\n",
       "      <th>3</th>\n",
       "      <td>25.08</td>\n",
       "      <td>negotiated</td>\n",
       "      <td>professional</td>\n",
       "      <td>[]</td>\n",
       "      <td>70030</td>\n",
       "      <td>CPT</td>\n",
       "      <td>Radiologic examination, eye, for detection of ...</td>\n",
       "      <td>RADIOLOGIC EXAMINATION EYE DETECT FOREIGN BODY</td>\n",
       "      <td>ffs</td>\n",
       "      <td>UnitedHealthcare of Georgia Inc.</td>\n",
       "      <td>...</td>\n",
       "      <td>None</td>\n",
       "      <td>88.045471</td>\n",
       "      <td>NaN</td>\n",
       "      <td>0.926806</td>\n",
       "      <td>0.939005</td>\n",
       "      <td>81.601074</td>\n",
       "      <td>NaN</td>\n",
       "      <td>Radiology</td>\n",
       "      <td>Head and Neck Imaging</td>\n",
       "      <td>Skull and Brain</td>\n",
       "    </tr>\n",
       "    <tr>\n",
       "      <th>4</th>\n",
       "      <td>25.08</td>\n",
       "      <td>negotiated</td>\n",
       "      <td>professional</td>\n",
       "      <td>[]</td>\n",
       "      <td>70030</td>\n",
       "      <td>CPT</td>\n",
       "      <td>Radiologic examination, eye, for detection of ...</td>\n",
       "      <td>RADIOLOGIC EXAMINATION EYE DETECT FOREIGN BODY</td>\n",
       "      <td>ffs</td>\n",
       "      <td>UnitedHealthcare of Georgia Inc.</td>\n",
       "      <td>...</td>\n",
       "      <td>None</td>\n",
       "      <td>88.045471</td>\n",
       "      <td>NaN</td>\n",
       "      <td>0.926806</td>\n",
       "      <td>0.939005</td>\n",
       "      <td>81.601074</td>\n",
       "      <td>NaN</td>\n",
       "      <td>Radiology</td>\n",
       "      <td>Head and Neck Imaging</td>\n",
       "      <td>Skull and Brain</td>\n",
       "    </tr>\n",
       "  </tbody>\n",
       "</table>\n",
       "<p>5 rows × 51 columns</p>\n",
       "</div>"
      ],
      "text/plain": [
       "    rate negotiated_type billing_class service_codes billing_code  \\\n",
       "0  18.15      negotiated  professional            []        70030   \n",
       "1  18.15      negotiated  professional            []        70030   \n",
       "2  18.15      negotiated  professional            []        70030   \n",
       "3  25.08      negotiated  professional            []        70030   \n",
       "4  25.08      negotiated  professional            []        70030   \n",
       "\n",
       "  billing_code_type                                          code_desc  \\\n",
       "0               CPT  Radiologic examination, eye, for detection of ...   \n",
       "1               CPT  Radiologic examination, eye, for detection of ...   \n",
       "2               CPT  Radiologic examination, eye, for detection of ...   \n",
       "3               CPT  Radiologic examination, eye, for detection of ...   \n",
       "4               CPT  Radiologic examination, eye, for detection of ...   \n",
       "\n",
       "                                             name negotiation_arrangement  \\\n",
       "0  RADIOLOGIC EXAMINATION EYE DETECT FOREIGN BODY                     ffs   \n",
       "1  RADIOLOGIC EXAMINATION EYE DETECT FOREIGN BODY                     ffs   \n",
       "2  RADIOLOGIC EXAMINATION EYE DETECT FOREIGN BODY                     ffs   \n",
       "3  RADIOLOGIC EXAMINATION EYE DETECT FOREIGN BODY                     ffs   \n",
       "4  RADIOLOGIC EXAMINATION EYE DETECT FOREIGN BODY                     ffs   \n",
       "\n",
       "                              payer  ... asc_short_desc  \\\n",
       "0  UnitedHealthcare of Georgia Inc.  ...           None   \n",
       "1  UnitedHealthcare of Georgia Inc.  ...           None   \n",
       "2  UnitedHealthcare of Georgia Inc.  ...           None   \n",
       "3  UnitedHealthcare of Georgia Inc.  ...           None   \n",
       "4  UnitedHealthcare of Georgia Inc.  ...           None   \n",
       "\n",
       "  medicare_opps_mar_national medicare_asc_mar_national  \\\n",
       "0                  88.045471                       NaN   \n",
       "1                  88.045471                       NaN   \n",
       "2                  88.045471                       NaN   \n",
       "3                  88.045471                       NaN   \n",
       "4                  88.045471                       NaN   \n",
       "\n",
       "  opps_adj_factor_stateavg asc_adj_factor_stateavg  \\\n",
       "0                 0.926806                0.939005   \n",
       "1                 0.926806                0.939005   \n",
       "2                 0.926806                0.939005   \n",
       "3                 0.926806                0.939005   \n",
       "4                 0.926806                0.939005   \n",
       "\n",
       "   medicare_opps_mar_stateavg medicare_asc_mar_stateavg procedure_set  \\\n",
       "0                   81.601074                       NaN     Radiology   \n",
       "1                   81.601074                       NaN     Radiology   \n",
       "2                   81.601074                       NaN     Radiology   \n",
       "3                   81.601074                       NaN     Radiology   \n",
       "4                   81.601074                       NaN     Radiology   \n",
       "\n",
       "         procedure_class  procedure_group  \n",
       "0  Head and Neck Imaging  Skull and Brain  \n",
       "1  Head and Neck Imaging  Skull and Brain  \n",
       "2  Head and Neck Imaging  Skull and Brain  \n",
       "3  Head and Neck Imaging  Skull and Brain  \n",
       "4  Head and Neck Imaging  Skull and Brain  \n",
       "\n",
       "[5 rows x 51 columns]"
      ]
     },
     "metadata": {},
     "output_type": "display_data"
    }
   ],
   "source": [
    "\n",
    "display(output.head())\n"
   ]
  },
  {
   "cell_type": "code",
   "execution_count": 9,
   "id": "a4aa9537",
   "metadata": {},
   "outputs": [],
   "source": [
    "# You can use the `fastparquet` or `pyarrow` engine with pandas to append to a Parquet file,\n",
    "# but true \"append\" mode is only supported if the file is partitioned or you use the same schema.\n",
    "# For a robust solution, use pyarrow directly:\n",
    "\n",
    "import pyarrow as pa\n",
    "import pyarrow.parquet as pq\n",
    "\n",
    "def append_df_to_parquet(df, parquet_path):\n",
    "    table = pa.Table.from_pandas(df)\n",
    "    # If the file does not exist, create it\n",
    "    try:\n",
    "        pq.write_to_dataset(table, root_path=parquet_path, append=True)\n",
    "    except Exception:\n",
    "        # If not a directory-based dataset, fallback to row-group append\n",
    "        if not os.path.exists(parquet_path):\n",
    "            pq.write_table(table, parquet_path)\n",
    "        else:\n",
    "            # Append as new row group (pyarrow >= 0.17)\n",
    "            with pq.ParquetWriter(parquet_path, table.schema, use_dictionary=True, compression='snappy') as writer:\n",
    "                writer.write_table(table)"
   ]
  },
  {
   "cell_type": "code",
   "execution_count": null,
   "id": "7df4acb6",
   "metadata": {},
   "outputs": [],
   "source": []
  },
  {
   "cell_type": "code",
   "execution_count": 13,
   "id": "fee53147",
   "metadata": {},
   "outputs": [
    {
     "name": "stdout",
     "output_type": "stream",
     "text": [
      "Could not read existing Parquet file, will overwrite. Reason: 'NoneType' object is not iterable\n"
     ]
    }
   ],
   "source": [
    "# Robust Parquet append: handle corrupt or missing file gracefully.\n",
    "import pandas as pd\n",
    "from fastparquet import write, ParquetFile\n",
    "import os\n",
    "\n",
    "parquet_path = r'C:\\Users\\ChristopherCato\\OneDrive - clarity-dx.com\\code\\bph\\workcomp-rates\\core\\data\\commercial_rates_GA.parquet'\n",
    "\n",
    "# Try to load existing columns; if file is corrupt or unreadable, create new file\n",
    "try:\n",
    "    pf = ParquetFile(parquet_path)\n",
    "    existing_cols = pf.columns\n",
    "\n",
    "    # Add missing columns to output, fill with pd.NA\n",
    "    for col in existing_cols:\n",
    "        if col not in output.columns:\n",
    "            output[col] = pd.NA\n",
    "\n",
    "    # Remove extra columns not in existing file\n",
    "    output_aligned = output[existing_cols]\n",
    "\n",
    "    # Coerce all object columns to string to avoid fastparquet byte errors\n",
    "    for col in output_aligned.columns:\n",
    "        if output_aligned[col].dtype == \"object\":\n",
    "            output_aligned[col] = output_aligned[col].astype(str)\n",
    "\n",
    "    # Now append\n",
    "    write(parquet_path, output_aligned, append=True)\n",
    "except Exception as e:\n",
    "    print(f\"Could not read existing Parquet file, will overwrite. Reason: {e}\")\n",
    "    # Coerce all object columns to string\n",
    "    for col in output.columns:\n",
    "        if output[col].dtype == \"object\":\n",
    "            output[col] = output[col].astype(str)\n",
    "    # Write new file with all columns in output\n",
    "    write(parquet_path, output, append=False)"
   ]
  }
 ],
 "metadata": {
  "kernelspec": {
   "display_name": "Python 3",
   "language": "python",
   "name": "python3"
  },
  "language_info": {
   "codemirror_mode": {
    "name": "ipython",
    "version": 3
   },
   "file_extension": ".py",
   "mimetype": "text/x-python",
   "name": "python",
   "nbconvert_exporter": "python",
   "pygments_lexer": "ipython3",
   "version": "3.13.2"
  }
 },
 "nbformat": 4,
 "nbformat_minor": 5
}
