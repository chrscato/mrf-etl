{
 "cells": [
  {
   "cell_type": "code",
   "execution_count": 9,
   "id": "a5837b6f",
   "metadata": {},
   "outputs": [],
   "source": [
    "import pandas as pd\n",
    "\n",
    "df = pd.read_parquet(r\"C:\\Users\\ChristopherCato\\OneDrive - clarity-dx.com\\code\\bph\\mrf-etl\\data\\output\\commercial_rates.parquet\")"
   ]
  },
  {
   "cell_type": "code",
   "execution_count": 10,
   "id": "9fe650a3",
   "metadata": {},
   "outputs": [
    {
     "data": {
      "text/plain": [
       "7939507"
      ]
     },
     "execution_count": 10,
     "metadata": {},
     "output_type": "execute_result"
    }
   ],
   "source": [
    "len(df)"
   ]
  },
  {
   "cell_type": "code",
   "execution_count": 11,
   "id": "27f9b400",
   "metadata": {},
   "outputs": [
    {
     "data": {
      "text/plain": [
       "Index(['rate', 'negotiated_type', 'billing_class', 'service_codes',\n",
       "       'billing_code', 'billing_code_type', 'code_desc', 'name',\n",
       "       'negotiation_arrangement', 'payer', 'payer_type', 'rate_updated_on',\n",
       "       'prov_npi', 'tin_type', 'tin_value', 'enumeration_type', 'org_name',\n",
       "       'status', 'primary_taxonomy_code', 'primary_taxonomy_desc',\n",
       "       'address_purpose', 'address_type', 'address_1', 'address_2', 'city',\n",
       "       'state', 'postal_code', 'country_code', 'telephone_number',\n",
       "       'fax_number', 'error', 'GA_PROF_MAR', 'GA_OP_MAR', 'GA_ASC_MAR',\n",
       "       'medicare_prof', 'state_up', 'billing_code_norm',\n",
       "       'state_wage_index_avg', 'opps_weight', 'opps_si', 'opps_short_desc',\n",
       "       'asc_pi', 'asc_nat_rate', 'asc_short_desc',\n",
       "       'medicare_opps_mar_national', 'medicare_asc_mar_national',\n",
       "       'opps_adj_factor_stateavg', 'asc_adj_factor_stateavg',\n",
       "       'medicare_opps_mar_stateavg', 'medicare_asc_mar_stateavg',\n",
       "       'procedure_set', 'procedure_class', 'procedure_group'],\n",
       "      dtype='object')"
      ]
     },
     "execution_count": 11,
     "metadata": {},
     "output_type": "execute_result"
    }
   ],
   "source": [
    "df.columns"
   ]
  },
  {
   "cell_type": "code",
   "execution_count": 16,
   "id": "50b230d7",
   "metadata": {},
   "outputs": [],
   "source": [
    "# Drop columns that are not needed\n",
    "columns_to_drop = [\n",
    "    'address_1',\n",
    "    'address_2',\n",
    "    'country_code',\n",
    "    'telephone_number',\n",
    "    'fax_number',\n",
    "    'error'\n",
    "]\n",
    "df = df.drop(columns=[col for col in columns_to_drop if col in df.columns])\n",
    "\n",
    "# Add columns that are required but missing, with null (None) values\n",
    "for col in ['prov_lat', 'prov_lng', 'cbsa']:\n",
    "    if col not in df.columns:\n",
    "        df[col] = None\n"
   ]
  },
  {
   "cell_type": "code",
   "execution_count": 21,
   "id": "78e8ffa7",
   "metadata": {},
   "outputs": [
    {
     "name": "stdout",
     "output_type": "stream",
     "text": [
      "unique enumeration types: ['NPI-1' 'NPI-2']\n"
     ]
    }
   ],
   "source": [
    "print(f\"unique enumeration types: {df['enumeration_type'].unique()}\")"
   ]
  },
  {
   "cell_type": "code",
   "execution_count": 25,
   "id": "80d29cd8",
   "metadata": {},
   "outputs": [],
   "source": [
    "df_3 = df.copy()\n",
    "df_3.loc[df_3['enumeration_type'] == 'NPI-1', 'org_name'] = 'individual provider'\n"
   ]
  },
  {
   "cell_type": "code",
   "execution_count": 22,
   "id": "e9643fe2",
   "metadata": {},
   "outputs": [],
   "source": [
    "df_2 = df[df['enumeration_type'] == 'NPI-2']"
   ]
  },
  {
   "cell_type": "code",
   "execution_count": 30,
   "id": "4eb9f80a",
   "metadata": {},
   "outputs": [],
   "source": [
    "df_npi_1 = df_3[df_3['enumeration_type'] == 'NPI-1']"
   ]
  },
  {
   "cell_type": "code",
   "execution_count": 31,
   "id": "bb072bce",
   "metadata": {},
   "outputs": [],
   "source": [
    "df_npi_1.to_parquet(r\"C:\\Users\\ChristopherCato\\OneDrive - clarity-dx.com\\code\\bph\\workcomp-rates\\core\\data\\commercial_rates_GA_NPI-1.parquet\", index=False)\n"
   ]
  },
  {
   "cell_type": "code",
   "execution_count": 29,
   "id": "9d64c61b",
   "metadata": {},
   "outputs": [],
   "source": [
    "df_2.to_parquet(r\"C:\\Users\\ChristopherCato\\OneDrive - clarity-dx.com\\code\\bph\\workcomp-rates\\core\\data\\commercial_rates_GA_NPI-2.parquet\", index=False)\n"
   ]
  },
  {
   "cell_type": "code",
   "execution_count": 32,
   "id": "f64bc9e1",
   "metadata": {},
   "outputs": [
    {
     "data": {
      "text/plain": [
       "Index(['rate', 'negotiated_type', 'billing_class', 'service_codes',\n",
       "       'billing_code', 'billing_code_type', 'code_desc', 'name',\n",
       "       'negotiation_arrangement', 'payer', 'payer_type', 'rate_updated_on',\n",
       "       'prov_npi', 'tin_type', 'tin_value', 'enumeration_type', 'org_name',\n",
       "       'status', 'primary_taxonomy_code', 'primary_taxonomy_desc',\n",
       "       'address_purpose', 'address_type', 'city', 'state', 'postal_code',\n",
       "       'GA_PROF_MAR', 'GA_OP_MAR', 'GA_ASC_MAR', 'medicare_prof', 'state_up',\n",
       "       'billing_code_norm', 'state_wage_index_avg', 'opps_weight', 'opps_si',\n",
       "       'opps_short_desc', 'asc_pi', 'asc_nat_rate', 'asc_short_desc',\n",
       "       'medicare_opps_mar_national', 'medicare_asc_mar_national',\n",
       "       'opps_adj_factor_stateavg', 'asc_adj_factor_stateavg',\n",
       "       'medicare_opps_mar_stateavg', 'medicare_asc_mar_stateavg',\n",
       "       'procedure_set', 'procedure_class', 'procedure_group', 'prov_lat',\n",
       "       'prov_lng', 'cbsa'],\n",
       "      dtype='object')"
      ]
     },
     "execution_count": 32,
     "metadata": {},
     "output_type": "execute_result"
    }
   ],
   "source": [
    "df_3.columns"
   ]
  },
  {
   "cell_type": "code",
   "execution_count": 28,
   "id": "c3bf4213",
   "metadata": {},
   "outputs": [
    {
     "name": "stdout",
     "output_type": "stream",
     "text": [
      "     rate negotiated_type billing_class  \\\n",
      "0  305.41      negotiated  professional   \n",
      "1  305.41      negotiated  professional   \n",
      "2  305.41      negotiated  professional   \n",
      "3  305.41      negotiated  professional   \n",
      "4  305.41      negotiated  professional   \n",
      "\n",
      "                                       service_codes billing_code  \\\n",
      "0  ['02', '05', '06', '07', '08', '19', '21', '22...        10121   \n",
      "1  ['02', '05', '06', '07', '08', '19', '21', '22...        10121   \n",
      "2  ['02', '05', '06', '07', '08', '19', '21', '22...        10121   \n",
      "3  ['02', '05', '06', '07', '08', '19', '21', '22...        10121   \n",
      "4  ['02', '05', '06', '07', '08', '19', '21', '22...        10121   \n",
      "\n",
      "  billing_code_type                                          code_desc  \\\n",
      "0               CPT  Incision and removal of foreign body, subcutan...   \n",
      "1               CPT  Incision and removal of foreign body, subcutan...   \n",
      "2               CPT  Incision and removal of foreign body, subcutan...   \n",
      "3               CPT  Incision and removal of foreign body, subcutan...   \n",
      "4               CPT  Incision and removal of foreign body, subcutan...   \n",
      "\n",
      "                                             name negotiation_arrangement  \\\n",
      "0  INCISION & REMOVAL FOREIGN BODY SUBQ TISS COMP                     ffs   \n",
      "1  INCISION & REMOVAL FOREIGN BODY SUBQ TISS COMP                     ffs   \n",
      "2  INCISION & REMOVAL FOREIGN BODY SUBQ TISS COMP                     ffs   \n",
      "3  INCISION & REMOVAL FOREIGN BODY SUBQ TISS COMP                     ffs   \n",
      "4  INCISION & REMOVAL FOREIGN BODY SUBQ TISS COMP                     ffs   \n",
      "\n",
      "                              payer payer_type rate_updated_on    prov_npi  \\\n",
      "0  UnitedHealthcare of Georgia Inc.    Insurer      2025-08-01  1619060415   \n",
      "1  UnitedHealthcare of Georgia Inc.    Insurer      2025-08-01  1285079186   \n",
      "2  UnitedHealthcare of Georgia Inc.    Insurer      2025-08-01  1508866773   \n",
      "3  UnitedHealthcare of Georgia Inc.    Insurer      2025-08-01  1093740615   \n",
      "4  UnitedHealthcare of Georgia Inc.    Insurer      2025-08-01  1831620186   \n",
      "\n",
      "  tin_type  tin_value enumeration_type  \\\n",
      "0      ein  582203198            NPI-1   \n",
      "1      ein  582203198            NPI-1   \n",
      "2      ein  582203198            NPI-1   \n",
      "3      ein  262806740            NPI-2   \n",
      "4      ein  262806740            NPI-1   \n",
      "\n",
      "                                            org_name status  \\\n",
      "0                                individual provider      A   \n",
      "1                                individual provider      A   \n",
      "2                                individual provider      A   \n",
      "3  THE NEUROLOGICAL INSTITUTE OF SAVANNAH & CENTE...      A   \n",
      "4                                individual provider      A   \n",
      "\n",
      "  primary_taxonomy_code primary_taxonomy_desc address_purpose address_type  \\\n",
      "0            208600000X               Surgery        LOCATION          DOM   \n",
      "1            208600000X               Surgery        LOCATION          DOM   \n",
      "2            208600000X               Surgery        LOCATION          DOM   \n",
      "3            207T00000X  Neurological Surgery        LOCATION          DOM   \n",
      "4            207T00000X  Neurological Surgery        LOCATION          DOM   \n",
      "\n",
      "       city state postal_code GA_PROF_MAR GA_OP_MAR GA_ASC_MAR  medicare_prof  \\\n",
      "0  SAVANNAH    GA   314056009      529.13   3845.57    3589.13     243.446906   \n",
      "1    RINCON    GA   313269095      529.13   3845.57    3589.13     243.446906   \n",
      "2    RINCON    GA   313260919      529.13   3845.57    3589.13     243.446906   \n",
      "3  SAVANNAH    GA   314055895      529.13   3845.57    3589.13     243.446906   \n",
      "4  SAVANNAH    GA   314055810      529.13   3845.57    3589.13     243.446906   \n",
      "\n",
      "  state_up billing_code_norm  state_wage_index_avg  opps_weight opps_si  \\\n",
      "0       GA             10121                0.7258    18.170401      J1   \n",
      "1       GA             10121                0.7258    18.170401      J1   \n",
      "2       GA             10121                0.7258    18.170401      J1   \n",
      "3       GA             10121                0.7258    18.170401      J1   \n",
      "4       GA             10121                0.7258    18.170401      J1   \n",
      "\n",
      "              opps_short_desc asc_pi  asc_nat_rate  \\\n",
      "0  Inc&rmvl fb subq tiss comp     A2        708.28   \n",
      "1  Inc&rmvl fb subq tiss comp     A2        708.28   \n",
      "2  Inc&rmvl fb subq tiss comp     A2        708.28   \n",
      "3  Inc&rmvl fb subq tiss comp     A2        708.28   \n",
      "4  Inc&rmvl fb subq tiss comp     A2        708.28   \n",
      "\n",
      "               asc_short_desc  medicare_opps_mar_national  \\\n",
      "0  Inc&rmvl fb subq tiss comp                 1620.236398   \n",
      "1  Inc&rmvl fb subq tiss comp                 1620.236398   \n",
      "2  Inc&rmvl fb subq tiss comp                 1620.236398   \n",
      "3  Inc&rmvl fb subq tiss comp                 1620.236398   \n",
      "4  Inc&rmvl fb subq tiss comp                 1620.236398   \n",
      "\n",
      "   medicare_asc_mar_national  opps_adj_factor_stateavg  \\\n",
      "0                 708.280029                   0.83548   \n",
      "1                 708.280029                   0.83548   \n",
      "2                 708.280029                   0.83548   \n",
      "3                 708.280029                   0.83548   \n",
      "4                 708.280029                   0.83548   \n",
      "\n",
      "   asc_adj_factor_stateavg  medicare_opps_mar_stateavg  \\\n",
      "0                   0.8629                 1353.675049   \n",
      "1                   0.8629                 1353.675049   \n",
      "2                   0.8629                 1353.675049   \n",
      "3                   0.8629                 1353.675049   \n",
      "4                   0.8629                 1353.675049   \n",
      "\n",
      "   medicare_asc_mar_stateavg procedure_set       procedure_class  \\\n",
      "0                 611.174805       Surgery  Integumentary System   \n",
      "1                 611.174805       Surgery  Integumentary System   \n",
      "2                 611.174805       Surgery  Integumentary System   \n",
      "3                 611.174805       Surgery  Integumentary System   \n",
      "4                 611.174805       Surgery  Integumentary System   \n",
      "\n",
      "   procedure_group prov_lat prov_lng  cbsa  \n",
      "0  Skin Procedures     None     None  None  \n",
      "1  Skin Procedures     None     None  None  \n",
      "2  Skin Procedures     None     None  None  \n",
      "3  Skin Procedures     None     None  None  \n",
      "4  Skin Procedures     None     None  None  \n"
     ]
    }
   ],
   "source": [
    "with pd.option_context('display.max_columns', None):\n",
    "    print(df_3.head())"
   ]
  }
 ],
 "metadata": {
  "kernelspec": {
   "display_name": "Python 3",
   "language": "python",
   "name": "python3"
  },
  "language_info": {
   "codemirror_mode": {
    "name": "ipython",
    "version": 3
   },
   "file_extension": ".py",
   "mimetype": "text/x-python",
   "name": "python",
   "nbconvert_exporter": "python",
   "pygments_lexer": "ipython3",
   "version": "3.13.2"
  }
 },
 "nbformat": 4,
 "nbformat_minor": 5
}
